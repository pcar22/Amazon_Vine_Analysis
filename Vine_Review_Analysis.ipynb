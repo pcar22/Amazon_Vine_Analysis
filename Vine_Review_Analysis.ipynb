{
  "nbformat": 4,
  "nbformat_minor": 0,
  "metadata": {
    "colab": {
      "provenance": [],
      "collapsed_sections": []
    },
    "kernelspec": {
      "name": "python3",
      "display_name": "Python 3"
    },
    "language_info": {
      "name": "python"
    }
  },
  "cells": [
    {
      "cell_type": "code",
      "execution_count": null,
      "metadata": {
        "colab": {
          "base_uri": "https://localhost:8080/"
        },
        "id": "ZvlZadSqgEx3",
        "outputId": "92f81aac-0f93-457a-b491-770121407a80"
      },
      "outputs": [
        {
          "output_type": "stream",
          "name": "stdout",
          "text": [
            "\r0% [Working]\r            \rGet:1 https://cloud.r-project.org/bin/linux/ubuntu bionic-cran40/ InRelease [3,626 B]\n",
            "Ign:2 https://developer.download.nvidia.com/compute/machine-learning/repos/ubuntu1804/x86_64  InRelease\n",
            "Get:3 http://security.ubuntu.com/ubuntu bionic-security InRelease [88.7 kB]\n",
            "Get:4 https://developer.download.nvidia.com/compute/cuda/repos/ubuntu1804/x86_64  InRelease [1,581 B]\n",
            "Hit:5 http://archive.ubuntu.com/ubuntu bionic InRelease\n",
            "Hit:6 https://developer.download.nvidia.com/compute/machine-learning/repos/ubuntu1804/x86_64  Release\n",
            "Get:7 http://archive.ubuntu.com/ubuntu bionic-updates InRelease [88.7 kB]\n",
            "Get:8 http://ppa.launchpad.net/c2d4u.team/c2d4u4.0+/ubuntu bionic InRelease [15.9 kB]\n",
            "Get:9 http://archive.ubuntu.com/ubuntu bionic-backports InRelease [83.3 kB]\n",
            "Hit:10 http://ppa.launchpad.net/cran/libgit2/ubuntu bionic InRelease\n",
            "Hit:11 http://ppa.launchpad.net/deadsnakes/ppa/ubuntu bionic InRelease\n",
            "Get:12 https://developer.download.nvidia.com/compute/cuda/repos/ubuntu1804/x86_64  Packages [948 kB]\n",
            "Get:13 http://ppa.launchpad.net/graphics-drivers/ppa/ubuntu bionic InRelease [21.3 kB]\n",
            "Get:15 http://security.ubuntu.com/ubuntu bionic-security/restricted amd64 Packages [1,163 kB]\n",
            "Get:16 http://security.ubuntu.com/ubuntu bionic-security/main amd64 Packages [2,992 kB]\n",
            "Get:17 http://security.ubuntu.com/ubuntu bionic-security/universe amd64 Packages [1,546 kB]\n",
            "Get:18 http://archive.ubuntu.com/ubuntu bionic-updates/restricted amd64 Packages [1,204 kB]\n",
            "Get:19 http://archive.ubuntu.com/ubuntu bionic-updates/main amd64 Packages [3,425 kB]\n",
            "Get:20 http://archive.ubuntu.com/ubuntu bionic-updates/universe amd64 Packages [2,324 kB]\n",
            "Get:21 http://ppa.launchpad.net/c2d4u.team/c2d4u4.0+/ubuntu bionic/main Sources [2,163 kB]\n",
            "Get:22 http://ppa.launchpad.net/c2d4u.team/c2d4u4.0+/ubuntu bionic/main amd64 Packages [1,108 kB]\n",
            "Get:23 http://ppa.launchpad.net/graphics-drivers/ppa/ubuntu bionic/main amd64 Packages [48.3 kB]\n",
            "Fetched 17.2 MB in 8s (2,035 kB/s)\n",
            "Reading package lists... Done\n"
          ]
        }
      ],
      "source": [
        "import os\n",
        "# Find the latest version of spark 3.0 from http://www.apache.org/dist/spark/ and enter as the spark version\n",
        "# For example:\n",
        "# spark_version = 'spark-3.0.3'\n",
        "spark_version = 'spark-3.3.0'\n",
        "os.environ['SPARK_VERSION']=spark_version\n",
        "\n",
        "# Install Spark and Java\n",
        "!apt-get update\n",
        "!apt-get install openjdk-11-jdk-headless -qq > /dev/null\n",
        "!wget -q http://www.apache.org/dist/spark/$SPARK_VERSION/$SPARK_VERSION-bin-hadoop3.tgz\n",
        "!tar xf $SPARK_VERSION-bin-hadoop3.tgz\n",
        "!pip install -q findspark\n",
        "\n",
        "# Set Environment Variables\n",
        "import os\n",
        "os.environ[\"JAVA_HOME\"] = \"/usr/lib/jvm/java-11-openjdk-amd64\"\n",
        "os.environ[\"SPARK_HOME\"] = f\"/content/{spark_version}-bin-hadoop3\"\n",
        "\n",
        "# Start a SparkSession\n",
        "import findspark\n",
        "findspark.init()"
      ]
    },
    {
      "cell_type": "code",
      "source": [
        "# Download the Postgres driver that will allow Spark to interact with Postgres.\n",
        "!wget https://jdbc.postgresql.org/download/postgresql-42.2.16.jar"
      ],
      "metadata": {
        "colab": {
          "base_uri": "https://localhost:8080/"
        },
        "id": "1OxNrCkFgdo5",
        "outputId": "842c052e-b01e-4b8b-bb4f-561a64462d7d"
      },
      "execution_count": null,
      "outputs": [
        {
          "output_type": "stream",
          "name": "stdout",
          "text": [
            "--2022-10-05 21:16:47--  https://jdbc.postgresql.org/download/postgresql-42.2.16.jar\n",
            "Resolving jdbc.postgresql.org (jdbc.postgresql.org)... 72.32.157.228, 2001:4800:3e1:1::228\n",
            "Connecting to jdbc.postgresql.org (jdbc.postgresql.org)|72.32.157.228|:443... connected.\n",
            "HTTP request sent, awaiting response... 200 OK\n",
            "Length: 1002883 (979K) [application/java-archive]\n",
            "Saving to: ‘postgresql-42.2.16.jar’\n",
            "\n",
            "postgresql-42.2.16. 100%[===================>] 979.38K  --.-KB/s    in 0.09s   \n",
            "\n",
            "2022-10-05 21:16:47 (11.1 MB/s) - ‘postgresql-42.2.16.jar’ saved [1002883/1002883]\n",
            "\n"
          ]
        }
      ]
    },
    {
      "cell_type": "code",
      "source": [
        "from pyspark.sql import SparkSession\n",
        "spark = SparkSession.builder.appName(\"M16-Amazon-Challenge\").config(\"spark.driver.extraClassPath\",\"/content/postgresql-42.2.16.jar\").getOrCreate()"
      ],
      "metadata": {
        "id": "25XqKpGDgdwx"
      },
      "execution_count": null,
      "outputs": []
    },
    {
      "cell_type": "code",
      "source": [
        "from pyspark import SparkFiles\n",
        "url = \"https://s3.amazonaws.com/amazon-reviews-pds/tsv/amazon_reviews_us_Musical_Instruments_v1_00.tsv.gz\"\n",
        "spark.sparkContext.addFile(url)\n",
        "df = spark.read.option(\"encoding\", \"UTF-8\").csv(SparkFiles.get(\"amazon_reviews_us_Musical_Instruments_v1_00.tsv.gz\"), sep=\"\\t\", header=True, inferSchema=True)\n",
        "df.show()"
      ],
      "metadata": {
        "colab": {
          "base_uri": "https://localhost:8080/"
        },
        "id": "u12Maeh9gd4I",
        "outputId": "5fd75b5a-bffc-4f0c-dd45-36ce074916ff"
      },
      "execution_count": null,
      "outputs": [
        {
          "output_type": "stream",
          "name": "stdout",
          "text": [
            "+-----------+-----------+--------------+----------+--------------+--------------------+-------------------+-----------+-------------+-----------+----+-----------------+--------------------+--------------------+-------------------+\n",
            "|marketplace|customer_id|     review_id|product_id|product_parent|       product_title|   product_category|star_rating|helpful_votes|total_votes|vine|verified_purchase|     review_headline|         review_body|        review_date|\n",
            "+-----------+-----------+--------------+----------+--------------+--------------------+-------------------+-----------+-------------+-----------+----+-----------------+--------------------+--------------------+-------------------+\n",
            "|         US|   45610553| RMDCHWD0Y5OZ9|B00HH62VB6|     618218723|AGPtek® 10 Isolat...|Musical Instruments|          3|            0|          1|   N|                N|         Three Stars|Works very good, ...|2015-08-31 00:00:00|\n",
            "|         US|   14640079| RZSL0BALIYUNU|B003LRN53I|     986692292|Sennheiser HD203 ...|Musical Instruments|          5|            0|          0|   N|                Y|          Five Stars|Nice headphones a...|2015-08-31 00:00:00|\n",
            "|         US|    6111003| RIZR67JKUDBI0|B0006VMBHI|     603261968|AudioQuest LP rec...|Musical Instruments|          3|            0|          1|   N|                Y|         Three Stars|removes dust. doe...|2015-08-31 00:00:00|\n",
            "|         US|    1546619|R27HL570VNL85F|B002B55TRG|     575084461|Hohner Inc. 560BX...|Musical Instruments|          5|            0|          0|   N|                Y|I purchase these ...|I purchase these ...|2015-08-31 00:00:00|\n",
            "|         US|   12222213|R34EBU9QDWJ1GD|B00N1YPXW2|     165236328|Blue Yeti USB Mic...|Musical Instruments|          5|            0|          0|   N|                Y|          Five Stars|This is an awesom...|2015-08-31 00:00:00|\n",
            "|         US|   46018513|R1WCUI4Z1SIQEO|B001N4GRGS|     134151483|Middle Atlantic P...|Musical Instruments|          5|            0|          0|   N|                N|          Five Stars|Used to cool equi...|2015-08-31 00:00:00|\n",
            "|         US|   10225065| RL5LNO26GAVJ1|B009PJRMHQ|     694166585|Kmise 1pc Pickgua...|Musical Instruments|          2|            3|          4|   N|                Y|Will not Fit Epip...|Note- Does not Fi...|2015-08-31 00:00:00|\n",
            "|         US|    6356995|R3GYQ5W8JHP8SB|B00NKBDAZS|     446431775|Kealoha Concert U...|Musical Instruments|          5|            0|          0|   N|                Y|          Five Stars|Well built Ukulel...|2015-08-31 00:00:00|\n",
            "|         US|   35297198|R30SHYQXGG5EYC|B006MIU7U2|     125871705|Halco 80000 - MR1...|Musical Instruments|          5|            0|          0|   N|                Y|Works fine. Hope ...|Had to replace a ...|2015-08-31 00:00:00|\n",
            "|         US|   32139520|R14YLXA56NP51I|B000FIBD0I|     771888534|Gator GPTBLACK Pl...|Musical Instruments|          5|            1|          1|   N|                N|I upgraded the po...|I've owned multip...|2015-08-31 00:00:00|\n",
            "|         US|   36060782|R1ZH0HSH38IOTZ|B0002E52GG|      68535945|Hetman 1 - Light ...|Musical Instruments|          5|            0|          0|   N|                Y|My son's favourit...|Consistent qualit...|2015-08-31 00:00:00|\n",
            "|         US|    5301309|R3H53KLLC210XI|B00RZIH52G|     725541773|Dragonpad pop fil...|Musical Instruments|          4|            0|          0|   N|                Y|Great pop filter ...|by far the best p...|2015-08-31 00:00:00|\n",
            "|         US|   37472935|R3OOR877NGA8JK|B001792BAU|      46570323|DharmaObjects Rel...|Musical Instruments|          3|            0|          0|   N|                Y|                  Ok|Beautiful set. On...|2015-08-31 00:00:00|\n",
            "|         US|   33578270|R1BY7WKOZ3KMH0|B009GSKW1Y|     547963417|Musiclily SSS Pla...|Musical Instruments|          2|            0|          0|   N|                Y|           Two Stars|Bridge pickup was...|2015-08-31 00:00:00|\n",
            "|         US|   22070226| RXP1TFSWE8EG9|B0002F4TKA|     436074323|Vic Firth America...|Musical Instruments|          5|            0|          0|   N|                Y|          Five Stars|Feels good and la...|2015-08-31 00:00:00|\n",
            "|         US|   52862655|R3J44DPP12OTLJ|B00K17YFBW|      81933093|Guitar Stand for ...|Musical Instruments|          5|            0|          0|   N|                Y|Great stand... on...|I love the stand....|2015-08-31 00:00:00|\n",
            "|         US|    4427243| RFOV69SK0T676|B00EQ24HJS|     669249276|Generic 3PLY Faux...|Musical Instruments|          5|            0|          0|   N|                Y|Looks great. You ...|On time. Looks gr...|2015-08-31 00:00:00|\n",
            "|         US|   14108571|R2HUWDNW62FOL3|B00IBOYTUE|     749537231|Audio 2000 6525 3...|Musical Instruments|          1|            0|          0|   N|                Y|  Poor sound quality|I was hoping it w...|2015-08-31 00:00:00|\n",
            "|         US|   27314089|R1KSU30XZGR452|B00FBRUSAE|     792472601|Sawtooth ST-AMP-1...|Musical Instruments|          5|            0|          0|   N|                Y|Perfect for the b...|Good sound for it...|2015-08-31 00:00:00|\n",
            "|         US|   16735445|R2TZVLLTSHA07N|B0113D2QUO|     269114019|Upado Unlimited G...|Musical Instruments|          5|            1|          1|   N|                Y|It really is a mu...|Wow! I didn't exp...|2015-08-31 00:00:00|\n",
            "+-----------+-----------+--------------+----------+--------------+--------------------+-------------------+-----------+-------------+-----------+----+-----------------+--------------------+--------------------+-------------------+\n",
            "only showing top 20 rows\n",
            "\n"
          ]
        }
      ]
    },
    {
      "cell_type": "code",
      "source": [
        "ratings_df = df.select([\"vine\", \"verified_purchase\", \"star_rating\", \"total_votes\", \"helpful_votes\"])\n",
        "ratings_df.show()"
      ],
      "metadata": {
        "colab": {
          "base_uri": "https://localhost:8080/"
        },
        "id": "hNqR1mhrgd-p",
        "outputId": "27bea7a1-837d-4c90-fbf4-0a7c5c6a41a9"
      },
      "execution_count": null,
      "outputs": [
        {
          "output_type": "stream",
          "name": "stdout",
          "text": [
            "+----+-----------------+-----------+-----------+-------------+\n",
            "|vine|verified_purchase|star_rating|total_votes|helpful_votes|\n",
            "+----+-----------------+-----------+-----------+-------------+\n",
            "|   N|                N|          3|          1|            0|\n",
            "|   N|                Y|          5|          0|            0|\n",
            "|   N|                Y|          3|          1|            0|\n",
            "|   N|                Y|          5|          0|            0|\n",
            "|   N|                Y|          5|          0|            0|\n",
            "|   N|                N|          5|          0|            0|\n",
            "|   N|                Y|          2|          4|            3|\n",
            "|   N|                Y|          5|          0|            0|\n",
            "|   N|                Y|          5|          0|            0|\n",
            "|   N|                N|          5|          1|            1|\n",
            "|   N|                Y|          5|          0|            0|\n",
            "|   N|                Y|          4|          0|            0|\n",
            "|   N|                Y|          3|          0|            0|\n",
            "|   N|                Y|          2|          0|            0|\n",
            "|   N|                Y|          5|          0|            0|\n",
            "|   N|                Y|          5|          0|            0|\n",
            "|   N|                Y|          5|          0|            0|\n",
            "|   N|                Y|          1|          0|            0|\n",
            "|   N|                Y|          5|          0|            0|\n",
            "|   N|                Y|          5|          1|            1|\n",
            "+----+-----------------+-----------+-----------+-------------+\n",
            "only showing top 20 rows\n",
            "\n"
          ]
        }
      ]
    },
    {
      "cell_type": "code",
      "source": [
        "# Filter the data and create a new DataFrame or table to retrieve all the rows where the \n",
        "# total_votes count is equal to or greater than 20\n",
        "votes_df = ratings_df.filter(ratings_df[\"total_votes\"] >= 20)"
      ],
      "metadata": {
        "id": "D_LjZTvugeBw"
      },
      "execution_count": null,
      "outputs": []
    },
    {
      "cell_type": "code",
      "source": [
        "# Filter the new DataFrame or table created in Step 1\n",
        "filtered_votes_df = votes_df.filter(votes_df[\"helpful_votes\"]/votes_df[\"total_votes\"] >= 0.5)\n",
        "filtered_votes_df.show()"
      ],
      "metadata": {
        "colab": {
          "base_uri": "https://localhost:8080/"
        },
        "id": "5geUOrnIgeFB",
        "outputId": "2ed6728a-81cb-4f29-cf07-18eaff53d9f3"
      },
      "execution_count": null,
      "outputs": [
        {
          "output_type": "stream",
          "name": "stdout",
          "text": [
            "+----+-----------------+-----------+-----------+-------------+\n",
            "|vine|verified_purchase|star_rating|total_votes|helpful_votes|\n",
            "+----+-----------------+-----------+-----------+-------------+\n",
            "|   N|                N|          5|         61|           47|\n",
            "|   N|                Y|          5|         23|           21|\n",
            "|   N|                Y|          1|         38|           37|\n",
            "|   N|                N|          5|         37|           33|\n",
            "|   N|                Y|          3|         24|           23|\n",
            "|   N|                Y|          5|         37|           34|\n",
            "|   N|                N|          5|         23|           22|\n",
            "|   N|                Y|          5|         37|           37|\n",
            "|   N|                Y|          5|         20|           19|\n",
            "|   N|                Y|          2|         22|           21|\n",
            "|   N|                Y|          5|         27|           27|\n",
            "|   N|                Y|          3|         85|           72|\n",
            "|   N|                N|          5|         24|           13|\n",
            "|   N|                Y|          5|         27|           22|\n",
            "|   N|                Y|          1|         30|           21|\n",
            "|   N|                N|          5|         20|           19|\n",
            "|   N|                N|          5|         33|           29|\n",
            "|   N|                Y|          5|         21|           21|\n",
            "|   Y|                N|          4|         23|           20|\n",
            "|   N|                Y|          5|         24|           21|\n",
            "+----+-----------------+-----------+-----------+-------------+\n",
            "only showing top 20 rows\n",
            "\n"
          ]
        }
      ]
    },
    {
      "cell_type": "code",
      "source": [
        "# Filter the DataFrame or table created in Step 2\n",
        "from pyspark.sql.functions import col, avg\n",
        "paid_df = filtered_votes_df.filter(filtered_votes_df['vine']== 'Y')\n",
        "paid_df.show()"
      ],
      "metadata": {
        "colab": {
          "base_uri": "https://localhost:8080/"
        },
        "id": "KNDLF6SigeIK",
        "outputId": "598bc169-05b3-4915-92a6-a6e095111c04"
      },
      "execution_count": null,
      "outputs": [
        {
          "output_type": "stream",
          "name": "stdout",
          "text": [
            "+----+-----------------+-----------+-----------+-------------+\n",
            "|vine|verified_purchase|star_rating|total_votes|helpful_votes|\n",
            "+----+-----------------+-----------+-----------+-------------+\n",
            "|   Y|                N|          4|         23|           20|\n",
            "|   Y|                N|          5|         32|           26|\n",
            "|   Y|                N|          5|         35|           29|\n",
            "|   Y|                N|          5|        161|          146|\n",
            "|   Y|                N|          5|         59|           55|\n",
            "|   Y|                N|          4|         25|           19|\n",
            "|   Y|                N|          5|         25|           22|\n",
            "|   Y|                N|          5|        102|           87|\n",
            "|   Y|                N|          4|         33|           28|\n",
            "|   Y|                N|          2|         37|           26|\n",
            "|   Y|                N|          3|         22|           20|\n",
            "|   Y|                N|          3|         50|           46|\n",
            "|   Y|                N|          5|         25|           19|\n",
            "|   Y|                N|          5|         27|           20|\n",
            "|   Y|                N|          5|        128|          111|\n",
            "|   Y|                N|          5|         80|           70|\n",
            "|   Y|                N|          5|         23|           22|\n",
            "|   Y|                N|          5|         54|           47|\n",
            "|   Y|                N|          4|         32|           28|\n",
            "|   Y|                N|          5|         42|           40|\n",
            "+----+-----------------+-----------+-----------+-------------+\n",
            "only showing top 20 rows\n",
            "\n"
          ]
        }
      ]
    },
    {
      "cell_type": "code",
      "source": [
        "# Repeat Step 3, but this time retrieve all the rows where the review was not \n",
        "# part of the Vine program (unpaid\n",
        "unpaid_df = filtered_votes_df.filter(filtered_votes_df['vine']== 'N')\n",
        "unpaid_df.show()"
      ],
      "metadata": {
        "colab": {
          "base_uri": "https://localhost:8080/"
        },
        "id": "OCXqlDTwgeLL",
        "outputId": "4cb850e9-32a0-4860-b2de-0d655cfae5b5"
      },
      "execution_count": null,
      "outputs": [
        {
          "output_type": "stream",
          "name": "stdout",
          "text": [
            "+----+-----------------+-----------+-----------+-------------+\n",
            "|vine|verified_purchase|star_rating|total_votes|helpful_votes|\n",
            "+----+-----------------+-----------+-----------+-------------+\n",
            "|   N|                N|          5|         61|           47|\n",
            "|   N|                Y|          5|         23|           21|\n",
            "|   N|                Y|          1|         38|           37|\n",
            "|   N|                N|          5|         37|           33|\n",
            "|   N|                Y|          3|         24|           23|\n",
            "|   N|                Y|          5|         37|           34|\n",
            "|   N|                N|          5|         23|           22|\n",
            "|   N|                Y|          5|         37|           37|\n",
            "|   N|                Y|          5|         20|           19|\n",
            "|   N|                Y|          2|         22|           21|\n",
            "|   N|                Y|          5|         27|           27|\n",
            "|   N|                Y|          3|         85|           72|\n",
            "|   N|                N|          5|         24|           13|\n",
            "|   N|                Y|          5|         27|           22|\n",
            "|   N|                Y|          1|         30|           21|\n",
            "|   N|                N|          5|         20|           19|\n",
            "|   N|                N|          5|         33|           29|\n",
            "|   N|                Y|          5|         21|           21|\n",
            "|   N|                Y|          5|         24|           21|\n",
            "|   N|                Y|          2|         28|           26|\n",
            "+----+-----------------+-----------+-----------+-------------+\n",
            "only showing top 20 rows\n",
            "\n"
          ]
        }
      ]
    },
    {
      "cell_type": "markdown",
      "source": [
        "Determine the total number of reviews, the number of 5-star reviews, and the percentage of 5-star reviews for the two types of review (paid vs unpaid)."
      ],
      "metadata": {
        "id": "FSswfzyQt8l-"
      }
    },
    {
      "cell_type": "code",
      "source": [
        "total_paid_vine_reviews = paid_df.count()\n",
        "total_paid_5star_vine_reviews = paid_df[paid_df['star_rating']== 5].count()\n",
        "percentage_of_paid_5star_vine_reviews = float(total_paid_5star_vine_reviews) / float(total_paid_vine_reviews)\n",
        "print(percentage_of_paid_5star_vine_reviews)"
      ],
      "metadata": {
        "colab": {
          "base_uri": "https://localhost:8080/"
        },
        "id": "0IrWdXY_geOs",
        "outputId": "5ec27f29-c4ad-4f48-a005-69391fc5e1ee"
      },
      "execution_count": null,
      "outputs": [
        {
          "output_type": "stream",
          "name": "stdout",
          "text": [
            "0.5666666666666667\n"
          ]
        }
      ]
    },
    {
      "cell_type": "code",
      "source": [
        "total_unpaid_nonvine_reviews = unpaid_df.count()\n",
        "total_unpaid_5star_nonvine_reviews = unpaid_df[unpaid_df['star_rating']== 5].count()\n",
        "percentage_of_unpaid_5star_nonvine_reviews = float(total_unpaid_5star_nonvine_reviews) / float(total_unpaid_nonvine_reviews)\n",
        "print(percentage_of_unpaid_5star_nonvine_reviews)"
      ],
      "metadata": {
        "colab": {
          "base_uri": "https://localhost:8080/"
        },
        "id": "FT4PEIpvhGy2",
        "outputId": "f4117802-05aa-412d-f58a-4b0ae725adc1"
      },
      "execution_count": null,
      "outputs": [
        {
          "output_type": "stream",
          "name": "stdout",
          "text": [
            "0.5672445948746287\n"
          ]
        }
      ]
    },
    {
      "cell_type": "code",
      "source": [
        "print(\"Total number of reviews for paid/Vine members:\") \n",
        "print(total_paid_vine_reviews)\n",
        "print(\"\")\n",
        "print(\"Total number of 5-star reviews for paid/Vine members:\")\n",
        "print(total_paid_5star_vine_reviews)\n",
        "print(\"\")\n",
        "print(\"Percentage of 5-star reviews for paid/Vine members:\")\n",
        "print(percentage_of_paid_5star_vine_reviews)"
      ],
      "metadata": {
        "colab": {
          "base_uri": "https://localhost:8080/"
        },
        "id": "KivPyOUvhG5o",
        "outputId": "ffb69842-b11d-49ab-e222-a79f183a06cf"
      },
      "execution_count": null,
      "outputs": [
        {
          "output_type": "stream",
          "name": "stdout",
          "text": [
            "Total number of reviews for paid/Vine members:\n",
            "60\n",
            "\n",
            "Total number of 5-star reviews for paid/Vine members:\n",
            "34\n",
            "\n",
            "Percentage of 5-star reviews for paid/Vine members:\n",
            "0.5666666666666667\n"
          ]
        }
      ]
    },
    {
      "cell_type": "code",
      "source": [
        "print(\"Total number of reviews for unpaid/non-Vine members:\") \n",
        "print(total_unpaid_nonvine_reviews)\n",
        "print(\"\")\n",
        "print(\"Total number of 5-star reviews for unpaid/non-Vine members:\")\n",
        "print(total_unpaid_5star_nonvine_reviews)\n",
        "print(\"\")\n",
        "print(\"Percentage of 5-star reviews for unpaid/non-Vine members:\")\n",
        "print(percentage_of_unpaid_5star_nonvine_reviews)"
      ],
      "metadata": {
        "colab": {
          "base_uri": "https://localhost:8080/"
        },
        "id": "o2wGFDnQhG8m",
        "outputId": "93f0c998-70b8-4576-8497-da9c1003b7ff"
      },
      "execution_count": null,
      "outputs": [
        {
          "output_type": "stream",
          "name": "stdout",
          "text": [
            "Total number of reviews for unpaid/non-Vine members:\n",
            "14477\n",
            "\n",
            "Total number of 5-star reviews for unpaid/non-Vine members:\n",
            "8212\n",
            "\n",
            "Percentage of 5-star reviews for unpaid/non-Vine members:\n",
            "0.5672445948746287\n"
          ]
        }
      ]
    }
  ]
}